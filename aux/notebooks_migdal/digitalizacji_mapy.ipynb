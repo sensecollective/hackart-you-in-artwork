{
 "cells": [
  {
   "cell_type": "markdown",
   "metadata": {},
   "source": [
    "Digitalizacja za: https://apps.automeris.io/wpd/\n",
    "\n",
    "EDIT: w końcu plik nie skorzystany."
   ]
  },
  {
   "cell_type": "code",
   "execution_count": 42,
   "metadata": {
    "collapsed": true
   },
   "outputs": [],
   "source": [
    "%matplotlib inline\n",
    "import json\n",
    "import pandas as pd\n",
    "import numpy as np"
   ]
  },
  {
   "cell_type": "code",
   "execution_count": 10,
   "metadata": {
    "collapsed": true
   },
   "outputs": [],
   "source": [
    "points = json.load(open(\"../data/mapa_lvl2_raw.json\"))"
   ]
  },
  {
   "cell_type": "code",
   "execution_count": 8,
   "metadata": {},
   "outputs": [
    {
     "data": {
      "text/plain": [
       "[{'value': [40, 11], 'x': 40, 'y': 11},\n",
       " {'value': [98, 11], 'x': 98, 'y': 11},\n",
       " {'value': [125, 11], 'x': 125, 'y': 11},\n",
       " {'value': [186, 11], 'x': 186, 'y': 11},\n",
       " {'value': [243, 12], 'x': 243, 'y': 12},\n",
       " {'value': [301, 12], 'x': 301, 'y': 12},\n",
       " {'value': [490, 11], 'x': 490, 'y': 11},\n",
       " {'value': [930, 12], 'x': 930, 'y': 12},\n",
       " {'value': [11, 66], 'x': 11, 'y': 66},\n",
       " {'value': [125, 66], 'x': 125, 'y': 66},\n",
       " {'value': [201, 67], 'x': 201, 'y': 67},\n",
       " {'value': [490, 66], 'x': 490, 'y': 66},\n",
       " {'value': [607, 99], 'x': 607, 'y': 99},\n",
       " {'value': [817, 100], 'x': 817, 'y': 100},\n",
       " {'value': [12, 123], 'x': 12, 'y': 123},\n",
       " {'value': [40, 122], 'x': 40, 'y': 122},\n",
       " {'value': [125, 122], 'x': 125, 'y': 122},\n",
       " {'value': [607, 119], 'x': 607, 'y': 119},\n",
       " {'value': [817, 119], 'x': 817, 'y': 119},\n",
       " {'value': [909, 122], 'x': 909, 'y': 122},\n",
       " {'value': [955, 121], 'x': 955, 'y': 121},\n",
       " {'value': [40, 279], 'x': 40, 'y': 279},\n",
       " {'value': [125, 281], 'x': 125, 'y': 281},\n",
       " {'value': [469, 125], 'x': 469, 'y': 125},\n",
       " {'value': [516, 125], 'x': 516, 'y': 125},\n",
       " {'value': [471, 438], 'x': 471, 'y': 438},\n",
       " {'value': [516, 438], 'x': 516, 'y': 438},\n",
       " {'value': [908, 185], 'x': 908, 'y': 185},\n",
       " {'value': [953, 185], 'x': 953, 'y': 185},\n",
       " {'value': [908, 241], 'x': 908, 'y': 241},\n",
       " {'value': [954, 241], 'x': 954, 'y': 241},\n",
       " {'value': [908, 299], 'x': 908, 'y': 299},\n",
       " {'value': [953, 298], 'x': 953, 'y': 298},\n",
       " {'value': [909, 352], 'x': 909, 'y': 352},\n",
       " {'value': [953, 352], 'x': 953, 'y': 352}]"
      ]
     },
     "execution_count": 8,
     "metadata": {},
     "output_type": "execute_result"
    }
   ],
   "source": [
    "points['datasetColl'][0]['data']"
   ]
  },
  {
   "cell_type": "code",
   "execution_count": 14,
   "metadata": {},
   "outputs": [],
   "source": [
    "points_df = pd.DataFrame(points['datasetColl'][0]['data']).loc[:,['x', 'y']]"
   ]
  },
  {
   "cell_type": "code",
   "execution_count": 18,
   "metadata": {},
   "outputs": [
    {
     "data": {
      "text/plain": [
       "<matplotlib.axes._subplots.AxesSubplot at 0x119580fd0>"
      ]
     },
     "execution_count": 18,
     "metadata": {},
     "output_type": "execute_result"
    },
    {
     "data": {
      "image/png": "[encoded data removed]",
      "text/plain": [
       "<Figure size 432x288 with 1 Axes>"
      ]
     },
     "metadata": {},
     "output_type": "display_data"
    }
   ],
   "source": [
    "points_df.plot.scatter('x', 'y')"
   ]
  },
  {
   "cell_type": "code",
   "execution_count": 20,
   "metadata": {},
   "outputs": [
    {
     "data": {
      "text/html": [
       "<div>\n",
       "<style scoped>\n",
       "    .dataframe tbody tr th:only-of-type {\n",
       "        vertical-align: middle;\n",
       "    }\n",
       "\n",
       "    .dataframe tbody tr th {\n",
       "        vertical-align: top;\n",
       "    }\n",
       "\n",
       "    .dataframe thead th {\n",
       "        text-align: right;\n",
       "    }\n",
       "</style>\n",
       "<table border=\"1\" class=\"dataframe\">\n",
       "  <thead>\n",
       "    <tr style=\"text-align: right;\">\n",
       "      <th></th>\n",
       "      <th>x</th>\n",
       "      <th>y</th>\n",
       "    </tr>\n",
       "  </thead>\n",
       "  <tbody>\n",
       "    <tr>\n",
       "      <th>0</th>\n",
       "      <td>40</td>\n",
       "      <td>11</td>\n",
       "    </tr>\n",
       "    <tr>\n",
       "      <th>1</th>\n",
       "      <td>98</td>\n",
       "      <td>11</td>\n",
       "    </tr>\n",
       "    <tr>\n",
       "      <th>2</th>\n",
       "      <td>125</td>\n",
       "      <td>11</td>\n",
       "    </tr>\n",
       "    <tr>\n",
       "      <th>3</th>\n",
       "      <td>186</td>\n",
       "      <td>11</td>\n",
       "    </tr>\n",
       "    <tr>\n",
       "      <th>4</th>\n",
       "      <td>243</td>\n",
       "      <td>12</td>\n",
       "    </tr>\n",
       "  </tbody>\n",
       "</table>\n",
       "</div>"
      ],
      "text/plain": [
       "     x   y\n",
       "0   40  11\n",
       "1   98  11\n",
       "2  125  11\n",
       "3  186  11\n",
       "4  243  12"
      ]
     },
     "execution_count": 20,
     "metadata": {},
     "output_type": "execute_result"
    }
   ],
   "source": [
    "points_df.head()"
   ]
  },
  {
   "cell_type": "code",
   "execution_count": 36,
   "metadata": {},
   "outputs": [
    {
     "data": {
      "text/plain": [
       "0      1.581818\n",
       "1      4.745455\n",
       "2      6.218182\n",
       "3      9.545455\n",
       "4     12.654545\n",
       "5     15.818182\n",
       "6     26.127273\n",
       "7     50.127273\n",
       "8      0.000000\n",
       "9      6.218182\n",
       "10    10.363636\n",
       "11    26.127273\n",
       "12    32.509091\n",
       "13    43.963636\n",
       "14     0.054545\n",
       "15     1.581818\n",
       "16     6.218182\n",
       "17    32.509091\n",
       "18    43.963636\n",
       "19    48.981818\n",
       "20    51.490909\n",
       "21     1.581818\n",
       "22     6.218182\n",
       "23    24.981818\n",
       "24    27.545455\n",
       "25    25.090909\n",
       "26    27.545455\n",
       "27    48.927273\n",
       "28    51.381818\n",
       "29    48.927273\n",
       "30    51.436364\n",
       "31    48.927273\n",
       "32    51.381818\n",
       "33    48.981818\n",
       "34    51.381818\n",
       "Name: x, dtype: float64"
      ]
     },
     "execution_count": 36,
     "metadata": {},
     "output_type": "execute_result"
    }
   ],
   "source": [
    "(points_df['x'] - 11) / 55"
   ]
  },
  {
   "cell_type": "code",
   "execution_count": 30,
   "metadata": {},
   "outputs": [
    {
     "data": {
      "text/plain": [
       "0     0.000000\n",
       "1     0.000000\n",
       "2     0.000000\n",
       "3     0.000000\n",
       "4     0.018182\n",
       "5     0.018182\n",
       "6     0.000000\n",
       "7     0.018182\n",
       "8     1.000000\n",
       "9     1.000000\n",
       "10    1.018182\n",
       "11    1.000000\n",
       "12    1.600000\n",
       "13    1.618182\n",
       "14    2.036364\n",
       "15    2.018182\n",
       "16    2.018182\n",
       "17    1.963636\n",
       "18    1.963636\n",
       "19    2.018182\n",
       "20    2.000000\n",
       "21    4.872727\n",
       "22    4.909091\n",
       "23    2.072727\n",
       "24    2.072727\n",
       "25    7.763636\n",
       "26    7.763636\n",
       "27    3.163636\n",
       "28    3.163636\n",
       "29    4.181818\n",
       "30    4.181818\n",
       "31    5.236364\n",
       "32    5.218182\n",
       "33    6.200000\n",
       "34    6.200000\n",
       "Name: y, dtype: float64"
      ]
     },
     "execution_count": 30,
     "metadata": {},
     "output_type": "execute_result"
    }
   ],
   "source": [
    "(points_df['y'] - 11) / 55"
   ]
  },
  {
   "cell_type": "code",
   "execution_count": 37,
   "metadata": {},
   "outputs": [
    {
     "data": {
      "text/plain": [
       "27   -253.0\n",
       "23   -156.0\n",
       "17     -3.0\n",
       "32     -1.0\n",
       "6      -1.0\n",
       "20     -1.0\n",
       "11     -1.0\n",
       "15     -1.0\n",
       "30      0.0\n",
       "28      0.0\n",
       "26      0.0\n",
       "24      0.0\n",
       "18      0.0\n",
       "16      0.0\n",
       "1       0.0\n",
       "34      0.0\n",
       "2       0.0\n",
       "3       0.0\n",
       "5       0.0\n",
       "9       0.0\n",
       "4       1.0\n",
       "7       1.0\n",
       "13      1.0\n",
       "10      1.0\n",
       "22      2.0\n",
       "19      3.0\n",
       "14     23.0\n",
       "12     33.0\n",
       "8      54.0\n",
       "33     54.0\n",
       "29     56.0\n",
       "31     58.0\n",
       "21    158.0\n",
       "25    313.0\n",
       "0       NaN\n",
       "Name: y, dtype: float64"
      ]
     },
     "execution_count": 37,
     "metadata": {},
     "output_type": "execute_result"
    }
   ],
   "source": [
    "points_df.diff()['y'].sort_values()"
   ]
  },
  {
   "cell_type": "code",
   "execution_count": 39,
   "metadata": {},
   "outputs": [
    {
     "data": {
      "text/plain": [
       "8    -20.422222\n",
       "21   -20.333333\n",
       "14   -17.888889\n",
       "31    -1.022222\n",
       "29    -1.000000\n",
       "25    -1.000000\n",
       "33    -0.977778\n",
       "2      0.600000\n",
       "15     0.622222\n",
       "34     0.977778\n",
       "32     1.000000\n",
       "26     1.000000\n",
       "28     1.000000\n",
       "20     1.022222\n",
       "30     1.022222\n",
       "24     1.044444\n",
       "4      1.266667\n",
       "1      1.288889\n",
       "5      1.288889\n",
       "3      1.355556\n",
       "10     1.688889\n",
       "16     1.888889\n",
       "22     1.888889\n",
       "19     2.044444\n",
       "9      2.533333\n",
       "12     2.600000\n",
       "6      4.200000\n",
       "13     4.666667\n",
       "18     4.666667\n",
       "11     6.422222\n",
       "23     7.644444\n",
       "27     8.711111\n",
       "7      9.777778\n",
       "17    10.711111\n",
       "0           NaN\n",
       "Name: x, dtype: float64"
      ]
     },
     "execution_count": 39,
     "metadata": {},
     "output_type": "execute_result"
    }
   ],
   "source": [
    "points_df.diff()['x'].sort_values() / 45."
   ]
  },
  {
   "cell_type": "code",
   "execution_count": null,
   "metadata": {
    "collapsed": true
   },
   "outputs": [],
   "source": []
  }
 ],
 "metadata": {
  "kernelspec": {
   "display_name": "Python [default]",
   "language": "python",
   "name": "python3"
  },
  "language_info": {
   "codemirror_mode": {
    "name": "ipython",
    "version": 3
   },
   "file_extension": ".py",
   "mimetype": "text/x-python",
   "name": "python",
   "nbconvert_exporter": "python",
   "pygments_lexer": "ipython3",
   "version": "3.5.4"
  }
 },
 "nbformat": 4,
 "nbformat_minor": 2
}
